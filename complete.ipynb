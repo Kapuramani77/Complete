{
 "cells": [
  {
   "cell_type": "markdown",
   "metadata": {},
   "source": [
    "#if-else syntax"
   ]
  },
  {
   "cell_type": "code",
   "execution_count": 7,
   "metadata": {},
   "outputs": [
    {
     "name": "stdout",
     "output_type": "stream",
     "text": [
      "I am not in if\n"
     ]
    }
   ],
   "source": [
    "i=10;\n",
    "if(i>15):\n",
    "    print(\"10 is less than 15\")\n",
    "else:\n",
    "    print(\"I am not in if\")"
   ]
  },
  {
   "cell_type": "markdown",
   "metadata": {},
   "source": [
    "#if else statements"
   ]
  },
  {
   "cell_type": "code",
   "execution_count": 8,
   "metadata": {},
   "outputs": [
    {
     "name": "stdout",
     "output_type": "stream",
     "text": [
      "i is graeter than 15\n",
      "i'm in else Block \n",
      "i'm not in if and not in else Block \n"
     ]
    }
   ],
   "source": [
    "i=20;\n",
    "if(i<15):\n",
    "    print(\"i is smaller than 15\")\n",
    "    print(\"i'm in if Block\")\n",
    "else:\n",
    "    print(\"i is graeter than 15\")\n",
    "    print(\"i'm in else Block \")\n",
    "    print(\"i'm not in if and not in else Block \")"
   ]
  },
  {
   "cell_type": "markdown",
   "metadata": {},
   "source": [
    "#if-elif-else ladder statements"
   ]
  },
  {
   "cell_type": "code",
   "execution_count": 9,
   "metadata": {},
   "outputs": [
    {
     "name": "stdout",
     "output_type": "stream",
     "text": [
      "i is 20\n"
     ]
    }
   ],
   "source": [
    "i=20;\n",
    "if(i==0):\n",
    "    print(\"i is 10\")\n",
    "elif(i==15):\n",
    "    print(\"i is 15\")\n",
    "elif(i==20):\n",
    "    print(\"i is 20\")\n",
    "else:\n",
    "    print(\"i is not present\")"
   ]
  },
  {
   "cell_type": "markdown",
   "metadata": {},
   "source": [
    "#nested if statements"
   ]
  },
  {
   "cell_type": "code",
   "execution_count": 10,
   "metadata": {},
   "outputs": [
    {
     "name": "stdout",
     "output_type": "stream",
     "text": [
      " i is smaller than 15\n"
     ]
    }
   ],
   "source": [
    "i=10;\n",
    "if(i==10):\n",
    "    if(i<15):\n",
    "        print(\" i is smaller than 15\")\n",
    "        "
   ]
  },
  {
   "cell_type": "code",
   "execution_count": 25,
   "metadata": {},
   "outputs": [
    {
     "name": "stdout",
     "output_type": "stream",
     "text": [
      "i is smaller than 12\n"
     ]
    }
   ],
   "source": [
    "i=10;\n",
    "if(i<12):\n",
    "    print(\"i is smaller than 12\")\n",
    "else:\n",
    "    print(\"i is greater than 15\")"
   ]
  },
  {
   "cell_type": "code",
   "execution_count": 26,
   "metadata": {},
   "outputs": [
    {
     "name": "stdout",
     "output_type": "stream",
     "text": [
      " i is smaller than 15\n",
      "i is smaller than 12\n"
     ]
    }
   ],
   "source": [
    "i=10;\n",
    "if(i==10):\n",
    "    if(i<15):\n",
    "        print(\" i is smaller than 15\")\n",
    "if(i<12):\n",
    "    print(\"i is smaller than 12\")\n",
    "else:\n",
    "    print(\"i is greater than 15\")"
   ]
  },
  {
   "cell_type": "markdown",
   "metadata": {},
   "source": [
    "# looping "
   ]
  },
  {
   "cell_type": "code",
   "execution_count": 12,
   "metadata": {},
   "outputs": [
    {
     "name": "stdout",
     "output_type": "stream",
     "text": [
      "Current letter: p\n",
      "Current letter: y\n",
      "Current letter: t\n",
      "Current letter: h\n",
      "Current letter: o\n",
      "Current letter: n\n"
     ]
    }
   ],
   "source": [
    "for letter in 'python': #first example\n",
    "    print(\"Current letter:\",letter)\n",
    "        "
   ]
  },
  {
   "cell_type": "code",
   "execution_count": 14,
   "metadata": {},
   "outputs": [
    {
     "name": "stdout",
     "output_type": "stream",
     "text": [
      "Current fruits: orange\n",
      "Current fruits: apple\n",
      "Current fruits: coconut\n",
      "Tata:\n"
     ]
    }
   ],
   "source": [
    "fruits=['orange','apple','coconut']\n",
    "for fruit in fruits:        #second exmaple\n",
    "    print(\"Current fruits:\",fruit)\n",
    "    \n",
    "print(\"Tata:\")"
   ]
  },
  {
   "cell_type": "markdown",
   "metadata": {},
   "source": [
    "#while loop"
   ]
  },
  {
   "cell_type": "code",
   "execution_count": 23,
   "metadata": {},
   "outputs": [
    {
     "name": "stdout",
     "output_type": "stream",
     "text": [
      "The count is: 0\n",
      "The count is: 1\n",
      "The count is: 2\n",
      "The count is: 3\n",
      "The count is: 4\n",
      "The count is: 5\n",
      "The count is: 6\n",
      "The count is: 7\n",
      "The count is: 8\n",
      "Good bye!\n"
     ]
    }
   ],
   "source": [
    "count=0\n",
    "while (count<9):\n",
    "    print(\"The count is:\",count)\n",
    "    count=count+1\n",
    "    \n",
    "print(\"Good bye!\")"
   ]
  },
  {
   "cell_type": "code",
   "execution_count": 22,
   "metadata": {},
   "outputs": [
    {
     "name": "stdout",
     "output_type": "stream",
     "text": [
      "10 equals 2 * 5\n",
      "11 is a prime number\n",
      "12 equals 2 * 6\n",
      "13 is a prime number\n",
      "14 equals 2 * 7\n",
      "15 equals 3 * 5\n",
      "16 equals 2 * 8\n",
      "17 is a prime number\n",
      "18 equals 2 * 9\n",
      "19 is a prime number\n"
     ]
    }
   ],
   "source": [
    "for num in range(10,20):                # to iterate between 10 to 20\n",
    " for i in range(2,num):              #to iterate on the factors of the number\n",
    "        if num%i==0:                    #to determinate the first factor\n",
    "            j=num/i                     #to calculate the second factor\n",
    "            print(\"%d equals %d * %d\" % (num,i,j))\n",
    "            break                       #to move to the next number, the #first FOR\n",
    " else:                                   #else part of the loop\n",
    "    print(num,'is a prime number')\n",
    "            "
   ]
  },
  {
   "cell_type": "code",
   "execution_count": 24,
   "metadata": {},
   "outputs": [
    {
     "name": "stdout",
     "output_type": "stream",
     "text": [
      "0 is less than 5\n",
      "1 is less than 5\n",
      "2 is less than 5\n",
      "3 is less than 5\n",
      "4 is less than 5\n",
      "5 is not less than 5\n"
     ]
    }
   ],
   "source": [
    "count=0\n",
    "while count<5:\n",
    "    print(count,\"is less than 5\")\n",
    "    count=count+1\n",
    "else:\n",
    "    print(count,\"is not less than 5\")"
   ]
  },
  {
   "cell_type": "code",
   "execution_count": null,
   "metadata": {},
   "outputs": [],
   "source": []
  }
 ],
 "metadata": {
  "kernelspec": {
   "display_name": "Python 3",
   "language": "python",
   "name": "python3"
  },
  "language_info": {
   "codemirror_mode": {
    "name": "ipython",
    "version": 3
   },
   "file_extension": ".py",
   "mimetype": "text/x-python",
   "name": "python",
   "nbconvert_exporter": "python",
   "pygments_lexer": "ipython3",
   "version": "3.7.6"
  }
 },
 "nbformat": 4,
 "nbformat_minor": 4
}
